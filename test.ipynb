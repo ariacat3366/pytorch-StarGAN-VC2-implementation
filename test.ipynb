{
 "cells": [
  {
   "cell_type": "code",
   "execution_count": 1,
   "metadata": {},
   "outputs": [
    {
     "name": "stdout",
     "output_type": "stream",
     "text": [
      "\n",
      "WARNING: The TensorFlow contrib module will not be included in TensorFlow 2.0.\n",
      "For more information, please see:\n",
      "  * https://github.com/tensorflow/community/blob/master/rfcs/20180907-contrib-sunset.md\n",
      "  * https://github.com/tensorflow/addons\n",
      "If you depend on functionality not listed there, please file an issue.\n",
      "\n"
     ]
    }
   ],
   "source": [
    "import torch\n",
    "import torch.nn as nn\n",
    "import torch.nn.functional as F\n",
    "from torch.utils.data import Dataset, DataLoader\n",
    "from torchvision import transforms\n",
    "\n",
    "import numpy as np\n",
    "import matplotlib.pyplot as plt\n",
    "import os\n",
    "\n",
    "from hparams import hparams, hparams_debug_string\n",
    "from model.AutoEncoder import AutoEncoder\n",
    "from model.StarGAN_VC import Generator, Discriminator \n",
    "from dataloader import VoiceDataset, ToTensor, RandomCrop\n",
    "from utils import World"
   ]
  },
  {
   "cell_type": "code",
   "execution_count": 2,
   "metadata": {},
   "outputs": [
    {
     "name": "stdout",
     "output_type": "stream",
     "text": [
      "cuda:0\n"
     ]
    }
   ],
   "source": [
    "device = torch.device(\"cuda:0\" if torch.cuda.is_available() else \"cpu\")\n",
    "print(device)"
   ]
  },
  {
   "cell_type": "code",
   "execution_count": 3,
   "metadata": {},
   "outputs": [],
   "source": [
    "log_dir = \"./log\"\n",
    "data_dir = \"./data\"\n",
    "generator_name =\"generator\"\n",
    "discriminator_name =\"discriminator\"\n",
    "if not os.path.exists(log_dir):\n",
    "    os.makedirs(log_dir)"
   ]
  },
  {
   "cell_type": "code",
   "execution_count": 9,
   "metadata": {},
   "outputs": [],
   "source": [
    "generator = Generator()\n",
    "generator.to(device)\n",
    "discriminator = Discriminator()\n",
    "discriminator.to(device)\n",
    "if os.path.exists(os.path.join(log_dir, generator_name)):\n",
    "    generator.load_state_dict(torch.load(os.path.join(log_dir, generator_name), map_location=device))\n",
    "if os.path.exists(os.path.join(log_dir, discriminator_name)):\n",
    "    discriminator.load_state_dict(torch.load(os.path.join(log_dir, discriminator_name), map_location=device))"
   ]
  },
  {
   "cell_type": "code",
   "execution_count": 10,
   "metadata": {},
   "outputs": [
    {
     "name": "stdout",
     "output_type": "stream",
     "text": [
      "['hiroshiba', 'uemura', 'tanezaki', 'tsuchiya', 'fujitou']\n",
      "[hiroshiba] mcep loaded.\n",
      "[uemura] mcep loaded.\n",
      "[tanezaki] mcep loaded.\n",
      "[tsuchiya] mcep loaded.\n",
      "[fujitou] mcep loaded.\n"
     ]
    }
   ],
   "source": [
    "dataset = VoiceDataset(root_dir=data_dir, source_limit=hparams.source_limit,\n",
    "                                           transform=transforms.Compose([\n",
    "                                               RandomCrop(),\n",
    "                                               ToTensor(),\n",
    "                                           ]))\n",
    "dataloader = DataLoader(dataset, batch_size=hparams.batch_size, shuffle=hparams.shuffle, drop_last=True)"
   ]
  },
  {
   "cell_type": "code",
   "execution_count": 11,
   "metadata": {},
   "outputs": [
    {
     "name": "stdout",
     "output_type": "stream",
     "text": [
      "2903\n",
      "torch.Size([1, 35, 128]) tensor(2)\n",
      "tensor(2)\n"
     ]
    },
    {
     "data": {
      "image/png": "[encoded data removed]",
      "text/plain": [
       "<matplotlib.figure.Figure at 0x7f0025443a90>"
      ]
     },
     "metadata": {},
     "output_type": "display_data"
    }
   ],
   "source": [
    "print(len(dataset))\n",
    "data, label = dataset[np.random.randint(0,2000)]\n",
    "print(data.shape, label)\n",
    "plt.imshow(data[0])\n",
    "print(label)"
   ]
  },
  {
   "cell_type": "code",
   "execution_count": 12,
   "metadata": {},
   "outputs": [
    {
     "name": "stdout",
     "output_type": "stream",
     "text": [
      "torch.Size([8, 1, 35, 128])\n",
      "torch.FloatTensor\n",
      "tensor([2, 2, 4, 1, 2, 2, 2, 2])\n",
      "tensor([[0., 0., 1., 0., 0.],\n",
      "        [0., 0., 1., 0., 0.],\n",
      "        [0., 0., 0., 0., 1.],\n",
      "        [0., 1., 0., 0., 0.],\n",
      "        [0., 0., 1., 0., 0.],\n",
      "        [0., 0., 1., 0., 0.],\n",
      "        [0., 0., 1., 0., 0.],\n",
      "        [0., 0., 1., 0., 0.]])\n"
     ]
    }
   ],
   "source": [
    "for i, batch in enumerate(dataloader):\n",
    "    data, label = batch\n",
    "    print(data.shape)\n",
    "    print(data.type())\n",
    "    print(label)\n",
    "    onehot = torch.eye(len(dataset.speakers))[label]\n",
    "    print(onehot)\n",
    "    break\n",
    "    "
   ]
  },
  {
   "cell_type": "code",
   "execution_count": 13,
   "metadata": {},
   "outputs": [],
   "source": [
    "optimizer_gen = torch.optim.Adam(generator.parameters(), lr=hparams.learning_rate_gen, weight_decay=hparams.weight_decay)\n",
    "optimizer_disc = torch.optim.Adam(discriminator.parameters(), lr=hparams.learning_rate_disc, weight_decay=hparams.weight_decay)"
   ]
  },
  {
   "cell_type": "code",
   "execution_count": null,
   "metadata": {},
   "outputs": [
    {
     "name": "stdout",
     "output_type": "stream",
     "text": [
      "epoch : 1\n",
      "epoch : 2\n",
      "epoch : 3\n"
     ]
    }
   ],
   "source": [
    "losses_gen = []\n",
    "losses_disc = []\n",
    "for epoch in range(hparams.num_epochs):\n",
    "    \n",
    "    print(\"epoch : {}\".format(epoch+1))\n",
    "    \n",
    "    running_loss = 0.\n",
    "    for i, batch in enumerate(dataloader):\n",
    "        \n",
    "        x_batch, y_batch = batch\n",
    "        y_t_batch = y_batch[torch.randperm(hparams.batch_size)]\n",
    "        y_t_batch = y_t_batch.long()\n",
    "        x_batch, y_batch, y_t_batch = x_batch.to(device), y_batch.to(device), y_t_batch.to(device)\n",
    "        \n",
    "        ### Train the discriminator ###\n",
    "        criterion_disc = nn.BCELoss()\n",
    "        out_disc_real = discriminator(x_batch, y_t_batch, y_batch)\n",
    "        out_gen = generator(x_batch, y_batch, y_t_batch)\n",
    "        out_disc_fake = discriminator(out_gen.detach(), y_batch, y_t_batch)\n",
    "        \n",
    "        loss_disc = F.binary_cross_entropy_with_logits(out_disc_fake,torch.zeros_like(out_disc_fake, dtype=torch.float)) + \\\n",
    "                                        F.binary_cross_entropy_with_logits(out_disc_real, torch.ones_like(out_disc_real, dtype=torch.float))\n",
    "            \n",
    "        loss_disc.backward()\n",
    "        optimizer_disc.step()\n",
    "        optimizer_gen.zero_grad()\n",
    "        optimizer_disc.zero_grad()\n",
    "        \n",
    "        ### Train the Generator ###\n",
    "        out_gen = generator(x_batch, y_batch, y_t_batch)\n",
    "        out_disc_fake = discriminator(out_gen, y_batch, y_t_batch)\n",
    "        \n",
    "        # Adversarial loss\n",
    "        loss_adv = F.binary_cross_entropy_with_logits(out_disc_fake, torch.ones_like(out_disc_fake, dtype=torch.float))\n",
    "        \n",
    "        # Cycle-consistency loss\n",
    "        gen_out_cyc = generator(generator(x_batch, y_batch, y_t_batch), y_t_batch, y_batch)\n",
    "        loss_cyc = F.l1_loss(gen_out_cyc, x_batch)\n",
    "\n",
    "        # Identity-mapping loss\n",
    "        gen_out_id = generator(x_batch, y_batch, y_batch)\n",
    "        loss_id = F.l1_loss(gen_out_id, x_batch)\n",
    "\n",
    "        if epoch < 100:\n",
    "            loss_gen = loss_adv + 10 * loss_cyc + 5 * loss_id\n",
    "        else:\n",
    "            loss_gen = loss_adv + 10 * loss_cyc \n",
    "            \n",
    "        loss_gen.backward()\n",
    "        optimizer_gen.step()\n",
    "        optimizer_gen.zero_grad()\n",
    "        optimizer_disc.zero_grad()\n",
    "        \n",
    "        losses_disc.append(loss_disc.item())\n",
    "        losses_gen.append(loss_gen.item())\n",
    "        \n",
    "    if (epoch+1)%10==0:\n",
    "        print(epoch+1)\n",
    "        plt.plot(losses_gen, label=\"gen\")\n",
    "        plt.plot(losses_disc, label=\"disc\")\n",
    "        plt.legend()\n",
    "        plt.savefig(os.path.join(log_dir, \"loss.png\"))\n",
    "        plt.show()\n",
    "        img = x_batch[0].cpu().detach().numpy()\n",
    "        plt.imshow(img[0])\n",
    "        plt.savefig(os.path.join(log_dir, \"epoch_{}_source.png\".format(epoch+1)))\n",
    "        plt.show()\n",
    "        img = out_gen[0].cpu().detach().numpy()\n",
    "        plt.imshow(img[0])\n",
    "        plt.savefig(os.path.join(log_dir, \"epoch_{}_output.png\".format(epoch+1)))\n",
    "        plt.show()\n",
    "        \n",
    "        torch.save(generator.state_dict(), os.path.join(log_dir, generator_name))\n",
    "        torch.save(discriminator.state_dict(), os.path.join(log_dir, discriminator_name))\n",
    "        \n"
   ]
  },
  {
   "cell_type": "code",
   "execution_count": null,
   "metadata": {},
   "outputs": [],
   "source": []
  },
  {
   "cell_type": "code",
   "execution_count": null,
   "metadata": {},
   "outputs": [],
   "source": []
  },
  {
   "cell_type": "code",
   "execution_count": null,
   "metadata": {},
   "outputs": [],
   "source": [
    "def load_model(log_dir, model_name):\n",
    "    model = AutoEncoder()\n",
    "    if torch.cuda.is_available():\n",
    "        model.load_state_dict(torch.load(os.path.join(model_dir, model_name), map_location=device))\n",
    "    return model"
   ]
  },
  {
   "cell_type": "code",
   "execution_count": null,
   "metadata": {},
   "outputs": [],
   "source": []
  },
  {
   "cell_type": "code",
   "execution_count": null,
   "metadata": {},
   "outputs": [],
   "source": []
  },
  {
   "cell_type": "code",
   "execution_count": null,
   "metadata": {},
   "outputs": [],
   "source": []
  },
  {
   "cell_type": "code",
   "execution_count": null,
   "metadata": {},
   "outputs": [],
   "source": [
    "world = World(fs=hparams.fs, fftl=hparams.fftl, shiftms=hparams.shiftms, minf0=hparams.minf0, maxf0=hparams.maxf0)"
   ]
  },
  {
   "cell_type": "code",
   "execution_count": null,
   "metadata": {},
   "outputs": [],
   "source": []
  },
  {
   "cell_type": "code",
   "execution_count": null,
   "metadata": {},
   "outputs": [],
   "source": []
  },
  {
   "cell_type": "code",
   "execution_count": null,
   "metadata": {},
   "outputs": [],
   "source": [
    "x_batch.type(), y_batch.type(), y_t_batch .type()"
   ]
  },
  {
   "cell_type": "code",
   "execution_count": null,
   "metadata": {},
   "outputs": [],
   "source": [
    "np.matmul(np.ones((8, 10, 512)),np.ones((8,512, 1))).shape"
   ]
  },
  {
   "cell_type": "code",
   "execution_count": null,
   "metadata": {},
   "outputs": [],
   "source": [
    "h = torch.ones((3,3))"
   ]
  },
  {
   "cell_type": "code",
   "execution_count": null,
   "metadata": {},
   "outputs": [],
   "source": [
    "h.unsqueeze(2).shape"
   ]
  },
  {
   "cell_type": "code",
   "execution_count": null,
   "metadata": {},
   "outputs": [],
   "source": []
  }
 ],
 "metadata": {
  "kernelspec": {
   "display_name": "Python 3",
   "language": "python",
   "name": "python3"
  },
  "language_info": {
   "codemirror_mode": {
    "name": "ipython",
    "version": 3
   },
   "file_extension": ".py",
   "mimetype": "text/x-python",
   "name": "python",
   "nbconvert_exporter": "python",
   "pygments_lexer": "ipython3",
   "version": "3.6.6"
  }
 },
 "nbformat": 4,
 "nbformat_minor": 2
}
